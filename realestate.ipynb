{
  "nbformat": 4,
  "nbformat_minor": 0,
  "metadata": {
    "colab": {
      "name": "realestate.ipynb",
      "provenance": [],
      "collapsed_sections": []
    },
    "kernelspec": {
      "name": "python3",
      "display_name": "Python 3"
    },
    "language_info": {
      "name": "python"
    }
  },
  "cells": [
    {
      "cell_type": "code",
      "metadata": {
        "id": "qZVo_Q_sfecR"
      },
      "source": [
        "import pandas as pd\n",
        "import numpy as np\n",
        "import seaborn as sb\n",
        "import matplotlib.pyplot as plt\n"
      ],
      "execution_count": 4,
      "outputs": []
    },
    {
      "cell_type": "code",
      "metadata": {
        "id": "nYD4qGLSqSjM"
      },
      "source": [
        "hs = pd.read_csv('USA_Housing.csv')\n",
        "hs.head()\n",
        "hs.tail()\n",
        "hs.info()\n",
        "hs.describe()"
      ],
      "execution_count": null,
      "outputs": []
    },
    {
      "cell_type": "markdown",
      "metadata": {
        "id": "juA2Epa8mGJ8"
      },
      "source": [
        "Graph Interpretation"
      ]
    },
    {
      "cell_type": "code",
      "metadata": {
        "id": "Coo4tOJVzIOj"
      },
      "source": [
        "sb.heatmap(hs.corr())"
      ],
      "execution_count": null,
      "outputs": []
    },
    {
      "cell_type": "code",
      "metadata": {
        "id": "H2xAxaXFINh8"
      },
      "source": [
        "sb.pairplot(hs)"
      ],
      "execution_count": null,
      "outputs": []
    },
    {
      "cell_type": "markdown",
      "metadata": {
        "id": "ShNAxyVO4GP3"
      },
      "source": [
        "Data Cleaning"
      ]
    },
    {
      "cell_type": "code",
      "metadata": {
        "id": "BZx6vGLQ4I9T"
      },
      "source": [
        "hs.drop_duplicates()"
      ],
      "execution_count": null,
      "outputs": []
    },
    {
      "cell_type": "markdown",
      "metadata": {
        "id": "_TSTNGWt6Bbo"
      },
      "source": [
        "Data Splitting"
      ]
    },
    {
      "cell_type": "markdown",
      "metadata": {
        "id": "iwdYKbC1Ahna"
      },
      "source": [
        "1. Array Creation"
      ]
    },
    {
      "cell_type": "code",
      "metadata": {
        "id": "SiYX0bpA7nxR"
      },
      "source": [
        "X = hs[['Avg. Area Income','Avg. Area House Age','Avg. Area Number of Rooms','Avg. Area Number of Bedrooms','Area Population']]\n",
        "Y = hs[['Price']]"
      ],
      "execution_count": 6,
      "outputs": []
    },
    {
      "cell_type": "markdown",
      "metadata": {
        "id": "-hJD65qHEL1u"
      },
      "source": [
        "2. Splitting"
      ]
    },
    {
      "cell_type": "code",
      "metadata": {
        "id": "C8V7vUVFAn2r"
      },
      "source": [
        "from sklearn.model_selection import train_test_split as tts\n",
        "X_train,X_test,Y_train,Y_test = tts(X,Y,test_size=0.1,random_state=0)"
      ],
      "execution_count": 9,
      "outputs": []
    },
    {
      "cell_type": "markdown",
      "metadata": {
        "id": "3eoiDTK7Dmvy"
      },
      "source": [
        "Selection of Algorithm"
      ]
    },
    {
      "cell_type": "code",
      "metadata": {
        "id": "8DAatw9PETD9",
        "colab": {
          "base_uri": "https://localhost:8080/"
        },
        "outputId": "af623642-51ba-4d19-ea97-7e81499c3d15"
      },
      "source": [
        "from sklearn.linear_model import LinearRegression \n",
        "lr=LinearRegression()\n",
        "lr.fit(X_train,Y_train)"
      ],
      "execution_count": 10,
      "outputs": [
        {
          "output_type": "execute_result",
          "data": {
            "text/plain": [
              "LinearRegression(copy_X=True, fit_intercept=True, n_jobs=None, normalize=False)"
            ]
          },
          "metadata": {
            "tags": []
          },
          "execution_count": 10
        }
      ]
    },
    {
      "cell_type": "code",
      "metadata": {
        "id": "22SF6ktfF_gi"
      },
      "source": [
        "lr_p = lr.predict(X_test)\n",
        "print(lr_p)"
      ],
      "execution_count": null,
      "outputs": []
    },
    {
      "cell_type": "code",
      "metadata": {
        "id": "QLqZY2KtG7oC"
      },
      "source": [
        "lr_a = lr.score(X_test,Y_test)\n",
        "print(lr_a)"
      ],
      "execution_count": null,
      "outputs": []
    },
    {
      "cell_type": "markdown",
      "metadata": {
        "id": "ujh7teKCK4Va"
      },
      "source": [
        "Accuracy is 92.35662446847971"
      ]
    }
  ]
}